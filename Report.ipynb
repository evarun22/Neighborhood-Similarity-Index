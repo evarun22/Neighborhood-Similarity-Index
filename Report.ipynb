{
 "cells": [
  {
   "cell_type": "markdown",
   "metadata": {},
   "source": [
    "# Introduction- Problem Statement and who'll be interested?"
   ]
  },
  {
   "cell_type": "markdown",
   "metadata": {},
   "source": [
    "Let us suppose an employee of a company has been transfered to other city for a better opportunity, he/she would like to compare the neighbourhoods on an inter city basis. They would have in mind of what kind of surroundings they are likely to prefer or which part of the city they would prefer for living in before moving into a new city. They would most probably prefer such a part of a city which is close to their workplace or a similar kind of neighbourhood in which they lived in their old city. Hence comparing the neighbourhoods of two cities and clustering them would give an idea for such people on what kind of place would be the best for them to move into after migrating to a new place. \n",
    "\n",
    "For the project, I would be picking the two cities from South India-Hyderabad and Bangalore. They are the capitals of their respective states and provide a wide range of opportunities professionally to migrators. There are a large number of IT Companies located in the two cities and they are diverse in their own ways and a lot of people keep migrating to and fro for work. Moreover it would help new employees to select their choice of preference if they are offered to choose their own place of work as most of the companies have their offices in both of these cities. Hence I believe this would help them in selecting the right place to live in the city they would be moving into."
   ]
  },
  {
   "cell_type": "markdown",
   "metadata": {},
   "source": [
    "# Data"
   ]
  },
  {
   "cell_type": "markdown",
   "metadata": {},
   "source": [
    "The data needed to complete the project was the PIN codes of every area of Hyderabad and Bangalore. Also the latitude and longitude of every location was needed to access the Foursquare API easily. With the help of this data neighbourhoods were segmented and clustered on the basis of resources available in a locality.\n",
    "The data had been obtained from http://www.geonames.org/export/zip/"
   ]
  },
  {
   "cell_type": "markdown",
   "metadata": {},
   "source": [
    "# Methodology"
   ]
  },
  {
   "cell_type": "markdown",
   "metadata": {},
   "source": [
    "The methodology used was the same as Clustering Neighbourhoods of Toronto but one change. Here as there are two cities, the latitude and longitude was obtained on the basis of larger value for the whole map to be covered. Moreover, all the neighbourhood were put into a single data frame to obtain clusters of similar neighbourhoods between the two cities. The remaining process was carried out similar to the one carried out in clustering of neighbourhoods in Toronto."
   ]
  },
  {
   "cell_type": "markdown",
   "metadata": {},
   "source": [
    "# Results"
   ]
  },
  {
   "cell_type": "markdown",
   "metadata": {},
   "source": [
    "Clustering of Neighbourhoods among the cities of Hyderabad, India and Bangalore, India was obtained and clusters were projected on a map showing both the cities."
   ]
  },
  {
   "cell_type": "markdown",
   "metadata": {},
   "source": [
    "# Conclusion"
   ]
  },
  {
   "cell_type": "markdown",
   "metadata": {},
   "source": [
    "There are many similarities among the cities of Hyderabad and Bangalore. The number of clusters they share among themselves proves this similarity. If one has to make a move from either of the cities to the other, there are a number of neighbourhoods for him/her to choose from for their living."
   ]
  },
  {
   "cell_type": "code",
   "execution_count": null,
   "metadata": {},
   "outputs": [],
   "source": []
  }
 ],
 "metadata": {
  "kernelspec": {
   "display_name": "Python 3",
   "language": "python",
   "name": "python3"
  },
  "language_info": {
   "codemirror_mode": {
    "name": "ipython",
    "version": 3
   },
   "file_extension": ".py",
   "mimetype": "text/x-python",
   "name": "python",
   "nbconvert_exporter": "python",
   "pygments_lexer": "ipython3",
   "version": "3.6.6"
  }
 },
 "nbformat": 4,
 "nbformat_minor": 2
}
